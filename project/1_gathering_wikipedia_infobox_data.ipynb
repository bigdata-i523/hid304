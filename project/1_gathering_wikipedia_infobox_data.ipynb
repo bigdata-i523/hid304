{
 "cells": [
  {
   "cell_type": "code",
   "execution_count": 1,
   "metadata": {
    "collapsed": true
   },
   "outputs": [],
   "source": [
    "import pandas as pd\n",
    "import numpy as np\n",
    "import wikipedia\n",
    "import urllib as urllib\n",
    "import urllib.request, urllib.parse, urllib.error\n",
    "import mwparserfromhell\n",
    "import pywikibot"
   ]
  },
  {
   "cell_type": "code",
   "execution_count": 2,
   "metadata": {
    "collapsed": true
   },
   "outputs": [],
   "source": [
    "missions = pd.read_csv('Mission_names.csv', delimiter='\\t', encoding='utf-8')\n",
    "missions = missions['Vehicle']"
   ]
  },
  {
   "cell_type": "markdown",
   "metadata": {},
   "source": [
    "PART 1: Retreiving Infobox Data for Mission Telemetry Data\n",
    "\n",
    "The following cell is a slow-running function which utilizes a wikipedia library. The a.url function accesses the Wikipedia search function to get exact URL text from titles which may not match exactly what the mission title dataset included (for example: \"Gemini IV\" becomes \"Gemini_4\" or \"STS-51D\" becomes \"STS-51-D\" to exactly match the wikipedia title)\n",
    "\n",
    "This is a step which cleans the data of the mission title list for later accessing the infoboxes, which requires page title strings to match exactly"
   ]
  },
  {
   "cell_type": "code",
   "execution_count": 3,
   "metadata": {
    "collapsed": true
   },
   "outputs": [],
   "source": [
    "#This cell takes some time to process\n",
    "mission_count = len(missions) #this int will be used for later counting functions\n",
    "mission_urls = [] #Initializes list for ursl\n",
    "\n",
    "for i in range(mission_count):\n",
    "    \n",
    "    #Calls the wikipedia library. This searches for the page if the input text is not a precise match\n",
    "    a = wikipedia.page(missions[i]) \n",
    "    \n",
    "    #retrieves the url\n",
    "    missionurl = a.url \n",
    "    \n",
    "    #appends the url string to the list\n",
    "    mission_urls.append(missionurl) \n"
   ]
  },
  {
   "cell_type": "markdown",
   "metadata": {},
   "source": [
    "The content function retrieves data from the rest of a wikipedia page. \n",
    "\n",
    "**Not used here, but preserved for later use\n",
    "                #content = a.content\n",
    "                #content.splitlines()**\n",
    "         \n",
    "The following loop interates through the url strings and removes all but the mission name exactly as wikipedia sees it. This is necessary because this process interacts with multiple wikipedia data reteeival libraries to get the infobox data as we need it."
   ]
  },
  {
   "cell_type": "code",
   "execution_count": 4,
   "metadata": {
    "collapsed": true
   },
   "outputs": [],
   "source": [
    "#Generates a list of mission names exactly as wikipedia recognizes them\n",
    "wikipedia_formatted_titles = []\n",
    "for string in mission_urls:\n",
    "    string = string.strip('https://en.wikipedia.org/wiki/')\n",
    "    wikipedia_formatted_titles.append(string)"
   ]
  },
  {
   "cell_type": "code",
   "execution_count": 5,
   "metadata": {},
   "outputs": [
    {
     "data": {
      "text/plain": [
       "['Gemini_4', 'Gemini_8', 'Gemini_9A', 'Gemini_10', 'Gemini_11']"
      ]
     },
     "execution_count": 5,
     "metadata": {},
     "output_type": "execute_result"
    }
   ],
   "source": [
    "#Prints the list to verify the correctness of the names recovered by the wikipedia library.\n",
    "wikipedia_formatted_titles[0:5]"
   ]
  },
  {
   "cell_type": "markdown",
   "metadata": {},
   "source": [
    "The names of each category retreived from the infobox are placed here as text for convenience (i.e. you can copy the text here and paste other code around it elsewhere). A function to condence this process would require the conversion from a variable name to a string and several StackExchange question responses indicated the improperness of defining python variables through a function, instead of directly. \n",
    "\n",
    "date\n",
    "mission_type\n",
    "mission_duration\n",
    "orbits_completed\n",
    "spacecraft\n",
    "launch_mass\n",
    "landing_mass\n",
    "launch_rocket\n",
    "launch_site\n",
    "landing_date\n",
    "landing_site\n",
    "orbit_epoch\n",
    "orbit_reference\n",
    "orbit_regime\n",
    "orbit_periapsis\n",
    "orbit_apoapsis\n",
    "orbit_inclination\n",
    "orbit_period\n",
    "apsis\n",
    "crew_size\n",
    "crew_members"
   ]
  },
  {
   "cell_type": "code",
   "execution_count": 6,
   "metadata": {
    "collapsed": true
   },
   "outputs": [],
   "source": [
    "#Initializes Lists of the categories to be pulled from the data\n",
    "#A better version of this could accept the category names as strings which append columns within a DataFrame, not items in a list\n",
    "date = []   \n",
    "mission_type = []\n",
    "mission_duration = []\n",
    "orbits_completed = []\n",
    "spacecraft = []\n",
    "launch_mass = []\n",
    "landing_mass = []\n",
    "launch_rocket = []\n",
    "launch_site = []\n",
    "landing_date = []\n",
    "landing_site = []\n",
    "orbit_epoch = []\n",
    "orbit_reference = []\n",
    "orbit_regime = []\n",
    "orbit_periapsis = []\n",
    "orbit_apoapsis = []\n",
    "orbit_inclination = []\n",
    "orbit_period = []\n",
    "apsis = []\n",
    "crew_size = []\n",
    "crew_members = []"
   ]
  },
  {
   "cell_type": "code",
   "execution_count": 7,
   "metadata": {
    "collapsed": true
   },
   "outputs": [],
   "source": [
    "#This function populates the raw data fields.\n",
    "#It checks if the category exists in the page template and appends the raw data if it does and 'NaN' if not\n",
    "def addCategoryData(mission_dictionary, category_string, category_data):\n",
    "    if category_string in mission_dictionary:\n",
    "        category_data.append(mission_dict[category_string])\n",
    "    elif category_string not in mission_dictionary:\n",
    "        category_data.append('NaN')"
   ]
  },
  {
   "cell_type": "code",
   "execution_count": 8,
   "metadata": {
    "collapsed": true
   },
   "outputs": [],
   "source": [
    "#https://stackoverflow.com/questions/8088226/content-of-infobox-of-wikipedia\n",
    "\n",
    "for i in range(len(wikipedia_formatted_titles)):\n",
    "    \n",
    "    #pywikibot accesses the Wikipedia API in English\n",
    "    enwp = pywikibot.Site('en','wikipedia') \n",
    "    \n",
    "    #Retreives the page for the given page title\n",
    "    page = pywikibot.Page(enwp, wikipedia_formatted_titles[i]) \n",
    "    \n",
    "    #Retreives the entire page\n",
    "    wikitext = page.get() \n",
    "    \n",
    "    #mwparserfromhell parses the page for raw wikicode data\n",
    "    wikicode = mwparserfromhell.parse(wikitext)\n",
    "    \n",
    "    #filters the raw code for ALL embedded templates including the Infobox\n",
    "    templates = wikicode.filter_templates() \n",
    "\n",
    "\n",
    "    namelist = [] #Initializes a list which will contain ALL template field names\n",
    "    valuelist = [] #Initializes a list which will contain ALL template value names\n",
    "    templatecount = 5 #Each page has a unique number of JSON data templates. This value is the max number of the\n",
    "                      #JSON templates that should be iterated through to ensure we always get to whichever\n",
    "                      #template contains the Infobox. Reducing this value would shorten the run-time, but risk\n",
    "                      # missing an infobox in the next step\n",
    "\n",
    "    for i in range(templatecount):\n",
    "        \n",
    "        #Creates a new variable from a current mission's template\n",
    "        infobox_film = templates[i]  \n",
    "        \n",
    "        #Iterates through the parameters of the current page's JSON template\n",
    "        for param in infobox_film.params: \n",
    "            namelist.append(param.name)\n",
    "            valuelist.append(param.value)\n",
    "\n",
    "    #initializes a dict which will each mission's categories and data.\n",
    "    mission_dict = {} \n",
    "    \n",
    "    #Iterates through each name + value line. \n",
    "    for i in range(len(namelist)): \n",
    "        namelist[i] = namelist[i].strip(' ') \n",
    "        \n",
    "        #Adds a dictionary entry with the given string as the dict category and the correspondeng value\n",
    "        mission_dict[namelist[i]] = valuelist[i] \n",
    "    \n",
    "    #addCategoryData(mission_dict, 'field_name', field_name)\n",
    "    addCategoryData(mission_dict, 'mission_type', mission_type)\n",
    "    addCategoryData(mission_dict, 'mission_duration', mission_duration)\n",
    "    addCategoryData(mission_dict, 'orbits_completed', orbits_completed)\n",
    "    addCategoryData(mission_dict, 'spacecraft', spacecraft)\n",
    "    addCategoryData(mission_dict, 'launch_mass', launch_mass)             \n",
    "    addCategoryData(mission_dict, 'landing_mass', landing_mass)             \n",
    "    addCategoryData(mission_dict, 'launch_rocket', launch_rocket)                \n",
    "    addCategoryData(mission_dict, 'launch_site', launch_site)                \n",
    "    addCategoryData(mission_dict, 'landing_date', landing_date)\n",
    "    addCategoryData(mission_dict, 'landing_site', landing_site)                \n",
    "    addCategoryData(mission_dict, 'orbit_epoch', orbit_epoch)                   \n",
    "    addCategoryData(mission_dict, 'orbit_reference', orbit_reference)                \n",
    "    addCategoryData(mission_dict, 'orbit_regime', orbit_regime)                   \n",
    "    addCategoryData(mission_dict, 'orbit_periapsis', orbit_periapsis)                \n",
    "    addCategoryData(mission_dict, 'orbit_apoapsis', orbit_apoapsis)\n",
    "    addCategoryData(mission_dict, 'orbit_inclination', orbit_inclination)                \n",
    "    addCategoryData(mission_dict, 'orbit_period', orbit_period)\n",
    "    addCategoryData(mission_dict, 'apsis', apsis)\n",
    "    addCategoryData(mission_dict, 'crew_size', crew_size)\n",
    "    addCategoryData(mission_dict, 'crew_members', crew_members)                              "
   ]
  },
  {
   "cell_type": "markdown",
   "metadata": {},
   "source": [
    "Append the raw data to a dataframe to clean the data from there."
   ]
  },
  {
   "cell_type": "code",
   "execution_count": 9,
   "metadata": {
    "collapsed": true
   },
   "outputs": [],
   "source": [
    "type(missions)\n",
    "df = pd.DataFrame(missions)\n",
    "\n",
    "#Assembles a DataFrame of all the uncleaned data\n",
    "df['wikipedia_name'] = pd.Series(wikipedia_formatted_titles)\n",
    "\n",
    "df['wikipedia_url'] = pd.Series(mission_urls)\n",
    "\n",
    "df['mission_type'] = pd.Series(mission_type)\n",
    "\n",
    "df['mission_duration'] = pd.Series(mission_duration)\n",
    "\n",
    "df['orbits_completed'] = pd.Series(orbits_completed)\n",
    "\n",
    "df['spacecraft'] = pd.Series(spacecraft)\n",
    "\n",
    "df['launch_mass'] = pd.Series(launch_mass)\n",
    "\n",
    "df['landing_mass'] = pd.Series(landing_mass)\n",
    "\n",
    "df['launch_rocket'] = pd.Series(launch_rocket)\n",
    "\n",
    "df['launch_site'] = pd.Series(launch_site)\n",
    "\n",
    "df['landing_date'] = pd.Series(landing_date)\n",
    "\n",
    "df['landing_site'] = pd.Series(landing_site)\n",
    "\n",
    "df['orbit_epoch'] = pd.Series(orbit_epoch)\n",
    "\n",
    "df['orbit_reference'] = pd.Series(orbit_reference)\n",
    "\n",
    "df['orbit_regime'] = pd.Series(orbit_regime)\n",
    "\n",
    "df['orbit_periapsis'] = pd.Series(orbit_periapsis)\n",
    "\n",
    "df['orbit_apoapsis'] = pd.Series(orbit_apoapsis)\n",
    "\n",
    "df['orbit_inclination'] = pd.Series(orbit_inclination)\n",
    "\n",
    "df['orbit_period'] = pd.Series(orbit_period)\n",
    "\n",
    "df['apsis'] = pd.Series(apsis)\n",
    "\n",
    "df['crew_size'] = pd.Series(crew_size)\n",
    "\n",
    "df['crew_members'] = pd.Series(crew_members)\n",
    "\n",
    "     "
   ]
  },
  {
   "cell_type": "code",
   "execution_count": 10,
   "metadata": {
    "collapsed": true
   },
   "outputs": [],
   "source": [
    "#Produces a CSV which will be read and cleaned on the next step\n",
    "df.to_csv('mission_data_raw.csv', encoding='utf-8') "
   ]
  },
  {
   "cell_type": "markdown",
   "metadata": {},
   "source": [
    "Proceed to 2_data_cleaning_and_merging"
   ]
  }
 ],
 "metadata": {
  "kernelspec": {
   "display_name": "Python 3",
   "language": "python",
   "name": "python3"
  },
  "language_info": {
   "codemirror_mode": {
    "name": "ipython",
    "version": 3
   },
   "file_extension": ".py",
   "mimetype": "text/x-python",
   "name": "python",
   "nbconvert_exporter": "python",
   "pygments_lexer": "ipython3",
   "version": "3.6.0"
  }
 },
 "nbformat": 4,
 "nbformat_minor": 2
}
